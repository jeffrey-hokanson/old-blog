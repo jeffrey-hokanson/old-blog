{
 "metadata": {
  "name": "",
  "signature": "sha256:d88052089d9f071308a18c79277d24c29a478653c1ec39df5fd7fc36b95c3f26"
 },
 "nbformat": 3,
 "nbformat_minor": 0,
 "worksheets": [
  {
   "cells": [
    {
     "cell_type": "markdown",
     "metadata": {},
     "source": [
      "# Galactic Rotation"
     ]
    },
    {
     "cell_type": "markdown",
     "metadata": {},
     "source": [
      "\"If you eliminate the impossible, what ever remains, however improbable must be the truth.\"\n",
      "\n",
      "--Sherlock Holmes"
     ]
    },
    {
     "cell_type": "markdown",
     "metadata": {},
     "source": [
      "The [galactic rotation problem](https://en.wikipedia.org/wiki/Galaxy_rotation_curve) has plagued astrophysics for over a century.  Using Newtonian mechanics, we can predict that the radial velocity should drop towards the edge of the galaxy.  However, what we observe is that the radial velocity remains constant.\n",
      "\n",
      "![Rotation Curves; by <a href=\"//commons.wikimedia.org/wiki/User:PhilHibbs\" title=\"User:PhilHibbs\">PhilHibbs</a> - <span class=\"int-own-work\">Own work</span> in Inkscape 0.42. Licensed under <a href=\"http://creativecommons.org/licenses/by-sa/3.0/\" title=\"Creative Commons Attribution-Share Alike 3.0\">CC BY-SA 3.0</a> via <a href=\"//commons.wikimedia.org/wiki/\">Wikimedia Commons</a>.](https://upload.wikimedia.org/wikipedia/commons/b/b9/GalacticRotation2.svg)\n",
      "\n",
      "In this memo, I briefly discuss [Gravitoelectromagnetism](https://en.wikipedia.org/wiki/Gravitoelectromagnetism) as it relates to this problem.  "
     ]
    },
    {
     "cell_type": "markdown",
     "metadata": {},
     "source": [
      "## Effect of Mass Current\n",
      "\n",
      "A electric current loop generates a field perpendicular to its axis [given by](http://www.netdenizen.com/emagnettest/offaxis/?offaxisloop):\n",
      "\\begin{equation}\n",
      "B_x = B_0 \\frac{1}{\\pi (1+\\alpha)} \n",
      "    \\left[ E(k) \\frac{1-\\alpha^2}{(1-\\alpha)^2} + K(\\sqrt{\\frac{4\\alpha}{1+\\alpha^2}})\\right]\n",
      "\\end{equation}\n",
      "where $B_0$ is the magnetic field at the center, $\\alpha = r/a$ the ratio of radial distance $r$ to the diameter of the ring $a$,  $K$ and $E$ are complete elliptic integral functions of the first and second kind.\n",
      "\n",
      "Then, given "
     ]
    },
    {
     "cell_type": "code",
     "collapsed": false,
     "input": [
      "from __future__ import division\n",
      "from scipy.special import ellipk, ellipe, ellipkm1\n",
      "from math import pi, sqrt\n",
      "K = lambda k: ellipk(k**2.0)\n",
      "E = lambda k: ellipe(k**2.0)\n",
      "# density of mass in kg/m^2\n",
      "sigma = 1\n",
      "# rotational velocity, m/s\n",
      "v = 2e5\n",
      "# radius\n",
      "r_end = 8e20\n",
      "# speed of light\n",
      "c = 3e8\n",
      "# gravitational constant m^3/kg/s^2\n",
      "G = 6.68e-11\n",
      "def Bx(r,a):\n",
      "    \"\"\"Current due to infantesimal loop with radius a at distance r\"\"\"\n",
      "    alpha = r/a\n",
      "    J = sigma*2*pi*a*v\n",
      "    G_0 = -16*pi*G/c**2*J\n",
      "    k = sqrt(4*alpha/(1+alpha)**2)\n",
      "    BGx = G_0/(1+alpha)*(E(k)*(1-alpha**2)/(1-alpha)**2 + K(k))\n",
      "    return BGx\n",
      "def Gr(r,a):\n",
      "    \"\"\"Gravitational radial field\"\"\"\n",
      "    return (2*pi*sigma*a)*G/r**2"
     ],
     "language": "python",
     "metadata": {},
     "outputs": [],
     "prompt_number": 67
    },
    {
     "cell_type": "markdown",
     "metadata": {},
     "source": [
      "We now integrate this over the whole galatic disk"
     ]
    },
    {
     "cell_type": "code",
     "collapsed": false,
     "input": [
      "from scipy.integrate import quad\n",
      "r = 10e20\n",
      "Bx_value,err = quad(lambda a: Bx(r,a), 1e1,r_end)\n",
      "Gr_value,err = quad(lambda a: Gr(r,a)*pi*r, 1e1, r_end)\n",
      "acceleration_B = v*Bx_value\n",
      "acceleration_G = Gr_value\n",
      "print acceleration_B\n",
      "print acceleration_G"
     ],
     "language": "python",
     "metadata": {},
     "outputs": [
      {
       "output_type": "stream",
       "stream": "stdout",
       "text": [
        "480266.102296\n",
        "4.21945327355e+11\n"
       ]
      }
     ],
     "prompt_number": 75
    },
    {
     "cell_type": "markdown",
     "metadata": {},
     "source": [
      "If the math is right, this effect looks to be several orders of magnitude too small to explain the observed effects."
     ]
    },
    {
     "cell_type": "markdown",
     "metadata": {},
     "source": [
      "## Effect of Decreasing Galacitic Mass"
     ]
    },
    {
     "cell_type": "code",
     "collapsed": false,
     "input": [],
     "language": "python",
     "metadata": {},
     "outputs": []
    }
   ],
   "metadata": {}
  }
 ]
}