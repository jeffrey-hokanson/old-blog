{
 "metadata": {
  "name": "",
  "signature": "sha256:43738b88b797847b8c9daaf4e9dbe5676b496feb267bad45b1eebbb27bc79a9b"
 },
 "nbformat": 3,
 "nbformat_minor": 0,
 "worksheets": []
}