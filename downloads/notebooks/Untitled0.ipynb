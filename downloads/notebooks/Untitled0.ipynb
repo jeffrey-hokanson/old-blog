{
 "metadata": {
  "name": "",
  "signature": "sha256:cde3c95493bae8676e5b14f5bddb0037c50c3195e8489fd2a216f4bbdbb669e0"
 },
 "nbformat": 3,
 "nbformat_minor": 0,
 "worksheets": [
  {
   "cells": [
    {
     "cell_type": "code",
     "collapsed": false,
     "input": [
      "import IPython.lib"
     ],
     "language": "python",
     "metadata": {},
     "outputs": [],
     "prompt_number": 1
    },
    {
     "cell_type": "code",
     "collapsed": false,
     "input": [],
     "language": "python",
     "metadata": {},
     "outputs": []
    }
   ],
   "metadata": {}
  }
 ]
}